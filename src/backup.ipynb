{
 "cells": [
  {
   "cell_type": "code",
   "execution_count": null,
   "metadata": {},
   "outputs": [],
   "source": [
    "!pip install kfp==2.8.0"
   ]
  },
  {
   "cell_type": "code",
   "execution_count": null,
   "metadata": {},
   "outputs": [],
   "source": [
    "import kfp\n",
    "from kfp import dsl\n",
    "from kfp.client.set_volume_credentials import ServiceAccountTokenVolumeCredentials"
   ]
  },
  {
   "cell_type": "code",
   "execution_count": null,
   "metadata": {},
   "outputs": [],
   "source": [
    "@dsl.component(base_image='python:3.9-slim')\n",
    "def hello_comp() -> str:\n",
    "    return \"Hello, world!\""
   ]
  },
  {
   "cell_type": "code",
   "execution_count": null,
   "metadata": {},
   "outputs": [],
   "source": [
    "@dsl.pipeline\n",
    "def hello_pipeline() -> str:\n",
    "    hello_task = hello_comp()\n",
    "    return hello_task.output"
   ]
  },
  {
   "cell_type": "code",
   "execution_count": null,
   "metadata": {},
   "outputs": [],
   "source": [
    "if __name__ == '__main__':\n",
    "    namespace = \"kubeflow\"\n",
    "    \n",
    "    credentials = ServiceAccountTokenVolumeCredentials(path=None)\n",
    "    \n",
    "    client = kfp.Client(host='http://ml-pipeline-ui.{namespace}', credentials=credentials)\n",
    "    run_id = client.create_run_from_pipeline_func(hello_pipeline, experiment_name='training').run_id\n",
    "    client.wait_for_run_completion(run_id=run_id)"
   ]
  }
 ],
 "metadata": {
  "language_info": {
   "name": "python"
  }
 },
 "nbformat": 4,
 "nbformat_minor": 2
}
